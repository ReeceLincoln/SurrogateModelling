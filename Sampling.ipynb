{
 "cells": [
  {
   "cell_type": "code",
   "execution_count": 1,
   "id": "ba3da954",
   "metadata": {},
   "outputs": [
    {
     "name": "stdout",
     "output_type": "stream",
     "text": [
      "0\n",
      "0\n",
      "0\n",
      "0\n",
      "0\n",
      "0\n",
      "1\n",
      "2\n",
      "3\n",
      "4\n",
      "0\n",
      "2\n",
      "4\n",
      "6\n",
      "8\n",
      "0\n",
      "3\n",
      "6\n",
      "9\n",
      "12\n",
      "0\n",
      "4\n",
      "8\n",
      "12\n",
      "16\n"
     ]
    }
   ],
   "source": [
    "# Learning LHS sampling\n",
    "\n",
    "import matplotlib.pyplot as plt\n",
    "import numpy as np\n",
    "\n",
    "\n",
    "for i in range(5):\n",
    "    for j in range(5):\n",
    "        print(i*j)"
   ]
  },
  {
   "cell_type": "code",
   "execution_count": 27,
   "id": "c18b9e1e",
   "metadata": {},
   "outputs": [
    {
     "name": "stdout",
     "output_type": "stream",
     "text": [
      "Total number of variables = 22870512900\n"
     ]
    }
   ],
   "source": [
    "# Next section is examples of creating LHS from list of variables. Take, for instance, an eight-layer RTS laminate.\n",
    "# [pm phi_1 < T0_1 | T1_1 > n_1 , pm phi_2 < T0_2 | T1_2 > n_2]s such that there are 8 variables\n",
    "\n",
    "# x = [phi1, t01, t11, n1, phi2, t02, t12, n2]\n",
    "\n",
    "# as n_i is dependent on phi_i, normalise n_i to be between 0 and 1 and then, dependent on phi, define integer value\n",
    "\n",
    "# total number of samples for an eight-layer RTS laminate (assuming symmetry and balance):\n",
    "# n_phi=0 = [0, 1, ..., 10] therefore when phi = 0, number of variables for n = 11\n",
    "# n_phi=90 [0, 1, ..., 18] therefore when phi = 90, number of variables for n = 18\n",
    "# t0 = t1 = [0, 1, ..., 70] therefore number of variables = 71\n",
    "# each cylinder (of eight layers) is defined by two RTS lamina: x = [phi1, t01, t11, n1, phi2, t02, t12, n2]\n",
    "\n",
    "# total number of samples (phi = 0) + (phi = 0 and 90) + (phi = 90)\n",
    "n_tot = (71**4*11**2) + 2*(71**4*11*19) + (71**4*19**2)\n",
    "print(f'Total number of variables = {n_tot}')"
   ]
  },
  {
   "cell_type": "markdown",
   "id": "fbdf504d",
   "metadata": {},
   "source": [
    "# Create LHS samples"
   ]
  },
  {
   "cell_type": "code",
   "execution_count": 6,
   "id": "d61367a1",
   "metadata": {},
   "outputs": [],
   "source": [
    "# defining function to take LHS (n_samples-by-n_variables matrix of value 0 -> 1) into useable designs\n",
    "def lhs_to_lamina(lhs_in, cyl, lam_type):\n",
    "\n",
    "    # lhs_in = unity-normalised LHS\n",
    "    # cyl = [radius, length, thickness]\n",
    "    # lam_type = 1 (RTS) or lam_type = 0 (SF)\n",
    "    \n",
    "    # return = lamina = [[phi1, t01, t11, n1, phi2, t02, t12, n2]*n_var]\n",
    "\n",
    "    # define sub-function that takes phi and returns n_max based on geometry\n",
    "    def phi_to_n_max(cyl, phi):\n",
    "        \n",
    "        # cyl = [radius, length, thickness]\n",
    "        # phi = 0 (axial) or = 90 (circumferential)\n",
    "        \n",
    "        # assume MSR (minimum steering radius) is 50, therefore 1 period is 100 mm (minimum)\n",
    "        msr = 100\n",
    "        \n",
    "        if phi == 0:\n",
    "            n_max = np.floor(cyl[1]//msr) + 1\n",
    "        elif phi == 90:\n",
    "            n_max = np.floor(2*np.pi*cyl[0]//msr) + 1\n",
    "        else:\n",
    "            SyntaxError('Phi is not defined as 0 or 90 degree')\n",
    "            \n",
    "        return n_max\n",
    "    \n",
    "    lamina = np.zeros((np.shape(lhs_in)))\n",
    "    \n",
    "    # if lam_type = 1 (i.e. RTS laminate)\n",
    "    if lam_type:\n",
    "    \n",
    "        for i, l in enumerate(lhs_in):\n",
    "            lamina[i, 0] = round(l[0])*90 # defining phi_1\n",
    "            lamina[i, 1] = round(l[1]*70) # defining t0_1\n",
    "            lamina[i, 2] = round(l[2]*70) # defining t1_1\n",
    "            lamina[i, 3] = int(l[3]*phi_to_n_max(cyl, lamina[i,0])) # defining n_1\n",
    "            lamina[i, 4] = round(l[4])*90 # defining phi_2\n",
    "            lamina[i, 5] = round(l[5]*70) # defining t0_2\n",
    "            lamina[i, 6] = round(l[6]*70) # defining t1_2\n",
    "            lamina[i, 7] = int(l[7]*phi_to_n_max(cyl, lamina[i,4])) # defining n_2\n",
    "    \n",
    "    # if lam_type = 0 (i.e. SF laminate)\n",
    "    elif not lam_type:\n",
    "        \n",
    "        for i, l in enumerate(lhs_in):\n",
    "            lamina[i, 0] = round(l[0]*90) # defining alpha_1\n",
    "            lamina[i, 1] = round(l[1]*90) # defining alpha_2\n",
    "    \n",
    "    return lamina\n",
    "\n",
    "## Rapid tow sheared (RTS) laminates\n",
    "# number of RTS variables: [pm phi_1 < T0_1 | T1_1 > n_1 , pm phi_2 < T0_2 | T1_2 > n_2]s\n",
    "n_rts_var = 8\n",
    "\n",
    "# defining number of samples for RTS laminates\n",
    "n_rts_sam = 10*n_rts_var\n",
    "# the number of samples is based on the 'levels' of each variable:\n",
    "# # https://stats.stackexchange.com/questions/58201/how-to-determine-the-sample-size-of-a-latin-hypercube-sampling\n",
    "# SMT use 10 * n dimensions. We have 8 dimensions, therefore 80 samples. Could change... Probably need to infill after initial \n",
    "\n",
    "from pyDOE2 import lhs\n",
    "\n",
    "# call LHS from pyDOE2 for RTS laminates\n",
    "lhs_rts  = lhs(n_rts_var, n_rts_sam)\n",
    "\n",
    "## Straight fibre (SF) laminates\n",
    "# number of SF variables: [pm alpha_1, pm alpha_2]s\n",
    "n_sf_var = 2\n",
    "\n",
    "# number of samples for SF laminates\n",
    "n_sf_sam = 10*n_sf_var\n",
    "\n",
    "# call LHS from pyDOE2 for SF laminates\n",
    "lhs_sf = lhs(n_sf_var, n_sf_sam)\n",
    "\n",
    "# cyl is a vector with [radius, length, thickness] in mm of the cylinder in question\n",
    "# cyl is needed to define max periodicty if RTS laminate is chosen\n",
    "cyl = [300, 1040, 1.05]\n",
    "\n",
    "# transform unity lhs to laminate definition for RTS (lam_type = 1)\n",
    "rts_lams = lhs_to_lamina(lhs_rts, cyl, 1)\n",
    "\n",
    "# transform unity lhs to laminate definition for SF (lam_type = 0)\n",
    "sf_lams = lhs_to_lamina(lhs_sf, cyl, 0)"
   ]
  },
  {
   "cell_type": "markdown",
   "id": "acac9c79",
   "metadata": {},
   "source": [
    "# Run LHS samples through Abaqus\n"
   ]
  },
  {
   "cell_type": "code",
   "execution_count": 7,
   "id": "4a67e116",
   "metadata": {},
   "outputs": [
    {
     "name": "stdout",
     "output_type": "stream",
     "text": [
      "[319. 289. 200. 374. 160. 210. 366. 255. 191. 302. 298. 182. 359. 279.\n",
      " 198. 269. 273. 207. 185. 191. 301. 361. 178. 259. 328. 332. 177. 384.\n",
      " 220. 241. 266. 309. 230. 211. 117. 137. 272. 307. 304. 282. 403. 283.\n",
      " 316. 195. 164. 167. 264. 272. 195. 170. 190. 162. 267. 111. 241. 238.\n",
      " 241. 296. 277. 268. 101. 239. 193. 267. 195. 310. 105. 198. 242. 119.\n",
      " 255. 223. 334. 210. 216. 239. 299. 247. 327. 181.]\n"
     ]
    }
   ],
   "source": [
    "# Run LHS with Abaqus. For now, use dummy function where y (output) is the sum of the variables\n",
    "def dummy_func(x_in):\n",
    "    \n",
    "    y_out = []\n",
    "    \n",
    "    for x in x_in:\n",
    "        y_out.append(sum(x))\n",
    "    \n",
    "    return np.asarray(y_out)\n",
    "\n",
    "y = dummy_func(rts_lams)\n",
    "\n",
    "print(y)"
   ]
  },
  {
   "cell_type": "markdown",
   "id": "b5e54061",
   "metadata": {},
   "source": [
    "# Calculate convergence crit"
   ]
  },
  {
   "cell_type": "code",
   "execution_count": 8,
   "id": "633e215c",
   "metadata": {},
   "outputs": [
    {
     "name": "stdout",
     "output_type": "stream",
     "text": [
      "___________________________________________________________________________\n",
      "   \n",
      "                                  Kriging\n",
      "___________________________________________________________________________\n",
      "   \n",
      " Problem size\n",
      "   \n",
      "      # training points.        : 80\n",
      "   \n",
      "___________________________________________________________________________\n",
      "   \n",
      " Training\n",
      "   \n",
      "   Training ...\n",
      "   Training - done. Time (sec):  0.3723986\n",
      "[[90.  9. 18.  3.  0. 17. 11.  3.]\n",
      " [ 0. 65. 41.  0.  0. 40. 11.  0.]\n",
      " [ 0. 14. 32.  2.  0. 61. 16.  1.]\n",
      " [ 0. 25. 34.  7. 90. 25. 31. 10.]\n",
      " [ 0. 53. 44.  9.  0. 43. 37.  6.]]\n",
      "___________________________________________________________________________\n",
      "   \n",
      " Evaluation\n",
      "   \n",
      "      # eval points. : 5\n",
      "   \n",
      "   Predicting ...\n",
      "   Predicting - done. Time (sec):  0.0000000\n",
      "   \n",
      "   Prediction time/pt. (sec) :  0.0000000\n",
      "   \n",
      "[[151.00013421]\n",
      " [157.00020191]\n",
      " [126.00004046]\n",
      " [222.00011038]\n",
      " [192.00007484]]\n",
      "[151. 157. 126. 222. 192.]\n"
     ]
    }
   ],
   "source": [
    "from smt.surrogate_models import KRG\n",
    "\n",
    "sm = KRG(theta0=[1e-1])\n",
    "sm.set_training_values(rts_lams, y)\n",
    "sm.train()\n",
    "\n",
    "rng = np.random.default_rng()\n",
    "n_test = 5\n",
    "x_test = lhs_to_lamina(rng.random((n_test,8)),cyl,1)\n",
    "\n",
    "print(x_test)\n",
    "\n",
    "y_pred = sm.predict_values(x_test)\n",
    "\n",
    "print(y_pred)\n",
    "\n",
    "y_true = dummy_func(x_test)\n",
    "\n",
    "print(y_true)\n",
    "\n",
    "# estimated variance\n",
    "# s2 = sm.predict_variances(x)\n",
    "# derivative according to the first variable\n",
    "# dydx = sm.predict_derivatives(xt, 0)\n",
    "# fig, axs = plt.subplots(1)"
   ]
  }
 ],
 "metadata": {
  "kernelspec": {
   "display_name": "Python 3 (ipykernel)",
   "language": "python",
   "name": "python3"
  },
  "language_info": {
   "codemirror_mode": {
    "name": "ipython",
    "version": 3
   },
   "file_extension": ".py",
   "mimetype": "text/x-python",
   "name": "python",
   "nbconvert_exporter": "python",
   "pygments_lexer": "ipython3",
   "version": "3.9.12"
  }
 },
 "nbformat": 4,
 "nbformat_minor": 5
}
